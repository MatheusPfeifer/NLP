{
  "cells": [
    {
      "cell_type": "markdown",
      "metadata": {
        "id": "RPuBqCCFCgvR"
      },
      "source": [
        "# Introdução ao spaCy"
      ]
    },
    {
      "cell_type": "markdown",
      "metadata": {
        "id": "DMvt1D5QESDK"
      },
      "source": [
        "# Etapa 1: Instalação do spaCy"
      ]
    },
    {
      "cell_type": "code",
      "execution_count": 1,
      "metadata": {
        "colab": {
          "base_uri": "https://localhost:8080/",
          "height": 884
        },
        "id": "bGBJTJK-L7uV",
        "outputId": "c85681b0-8dbe-46ee-dc80-ceb902497417"
      },
      "outputs": [],
      "source": [
        "# !pip install spacy --upgrade\n",
        "# #!pip install spacy==2.2.3"
      ]
    },
    {
      "cell_type": "code",
      "execution_count": 2,
      "metadata": {
        "colab": {
          "base_uri": "https://localhost:8080/",
          "height": 35
        },
        "id": "PktHT0dXMNIS",
        "outputId": "f0d2ebad-61a1-4173-f612-ec23c95ea34a"
      },
      "outputs": [
        {
          "data": {
            "text/plain": [
              "'3.7.4'"
            ]
          },
          "execution_count": 2,
          "metadata": {},
          "output_type": "execute_result"
        }
      ],
      "source": [
        "import spacy\n",
        "spacy.__version__"
      ]
    },
    {
      "cell_type": "code",
      "execution_count": 3,
      "metadata": {
        "colab": {
          "base_uri": "https://localhost:8080/",
          "height": 676
        },
        "id": "TXvCmKxLMdoF",
        "outputId": "b5d7ef54-7c44-4a4b-c5cc-93bdba5bc0e7"
      },
      "outputs": [],
      "source": [
        "# !python -m spacy download pt"
      ]
    },
    {
      "cell_type": "markdown",
      "metadata": {
        "id": "bJ2s3MS6EXBe"
      },
      "source": [
        "# Etapa 2: Marcação POS\n",
        "\n",
        "- POS (part-of-speech) atribui para as palavras partes da fala, como substantivos, adjetivos, verbos\n",
        "- Importante para a detecção de entidades no texto, pois primeiro é necessário saber o que o texto contém\n",
        "- Lista de tokens: https://spacy.io/api/annotation#pos-tagging\n",
        "- Português: https://www.sketchengine.eu/portuguese-freeling-part-of-speech-tagset/"
      ]
    },
    {
      "cell_type": "code",
      "execution_count": 5,
      "metadata": {
        "colab": {
          "base_uri": "https://localhost:8080/",
          "height": 35
        },
        "id": "0T8hIclJNV1b",
        "outputId": "46b4bd24-8d2e-4024-9836-ba74b8920c79"
      },
      "outputs": [
        {
          "data": {
            "text/plain": [
              "<spacy.lang.pt.Portuguese at 0x21d7b04dd90>"
            ]
          },
          "execution_count": 5,
          "metadata": {},
          "output_type": "execute_result"
        }
      ],
      "source": [
        "# Load PLN object to process portuguese text\n",
        "pln = spacy.load('pt_core_news_sm')\n",
        "pln"
      ]
    },
    {
      "cell_type": "code",
      "execution_count": 6,
      "metadata": {
        "id": "4pZAEQVPNku8"
      },
      "outputs": [],
      "source": [
        "# Load a string as a pln spacy object\n",
        "documento = pln('Estou aprendendo processamento de linguagem natural, curso em Curitiba')"
      ]
    },
    {
      "cell_type": "code",
      "execution_count": 7,
      "metadata": {
        "colab": {
          "base_uri": "https://localhost:8080/",
          "height": 190
        },
        "id": "Fg7TeXodNz4e",
        "outputId": "4875c0c8-f9b9-4002-892d-50a4babd7d1d"
      },
      "outputs": [
        {
          "name": "stdout",
          "output_type": "stream",
          "text": [
            "Estou AUX\n",
            "aprendendo VERB\n",
            "processamento NOUN\n",
            "de ADP\n",
            "linguagem NOUN\n",
            "natural ADJ\n",
            ", PUNCT\n",
            "curso NOUN\n",
            "em ADP\n",
            "Curitiba PROPN\n"
          ]
        }
      ],
      "source": [
        "# Print the token and the POS of the text\n",
        "for token in documento:\n",
        "  print(token.text, token.pos_)"
      ]
    },
    {
      "cell_type": "markdown",
      "metadata": {
        "id": "eGd1tq7mLv_M"
      },
      "source": [
        "## Legenda\n",
        "\n",
        "- lemma: raiz da palavra\n",
        "- pos: parte da fala\n",
        "- tag: informações morfológicas, como se o verbo está no passado\n",
        "- dep: dependência sintática\n",
        "- shape: formato (maiúsculo, minúsculo, dígitos)\n",
        "- alpha: se é alfabético\n",
        "- stop: se é stopword"
      ]
    },
    {
      "cell_type": "code",
      "execution_count": 8,
      "metadata": {
        "colab": {
          "base_uri": "https://localhost:8080/",
          "height": 190
        },
        "id": "0sIR8by8Osd3",
        "outputId": "609cc5bc-65c0-4ff3-f570-dec0834b0ddf"
      },
      "outputs": [
        {
          "name": "stdout",
          "output_type": "stream",
          "text": [
            "Estou estar AUX AUX aux Xxxxx True True\n",
            "aprendendo aprender VERB VERB ROOT xxxx True False\n",
            "processamento processamento NOUN NOUN obj xxxx True False\n",
            "de de ADP ADP case xx True True\n",
            "linguagem linguagem NOUN NOUN nmod xxxx True False\n",
            "natural natural ADJ ADJ amod xxxx True False\n",
            ", , PUNCT PUNCT punct , False False\n",
            "curso curso NOUN NOUN appos xxxx True False\n",
            "em em ADP ADP case xx True True\n",
            "Curitiba Curitiba PROPN PROPN nmod Xxxxx True False\n"
          ]
        }
      ],
      "source": [
        "# Example of properties and functions that can be used to obtain information from a text\n",
        "for token in documento:\n",
        "  print(token.text, token.lemma_, token.pos_, token.tag_, token.dep_,\n",
        "        token.shape_, token.is_alpha, token.is_stop)"
      ]
    },
    {
      "cell_type": "code",
      "execution_count": 9,
      "metadata": {
        "colab": {
          "base_uri": "https://localhost:8080/",
          "height": 35
        },
        "id": "vHNRWL_KPabJ",
        "outputId": "1e6f6f61-a208-4ebb-e73c-47e6f4a726a7"
      },
      "outputs": [
        {
          "name": "stdout",
          "output_type": "stream",
          "text": [
            "Curitiba\n"
          ]
        }
      ],
      "source": [
        "# Example of how extract the text of a specific type of POS.\n",
        "# PROPN is a location\n",
        "for token in documento:\n",
        "  if token.pos_ == 'PROPN':\n",
        "    print(token.text)"
      ]
    },
    {
      "cell_type": "markdown",
      "metadata": {
        "id": "DctwAtI_NLym"
      },
      "source": [
        "# Etapa 3: Lematização e stemização\n",
        "\n",
        "- Lematização: \"Lema\" de uma palavra de acordo com seu significado no dicionário - palavra base (análise vocabular e morfológica)\n",
        "- Stemização: Extrair o radical das palavras"
      ]
    },
    {
      "cell_type": "code",
      "execution_count": 10,
      "metadata": {
        "colab": {
          "base_uri": "https://localhost:8080/",
          "height": 190
        },
        "id": "NVZ0_xLUQGjb",
        "outputId": "26764097-4134-481f-b87d-82ebc94b0625"
      },
      "outputs": [
        {
          "name": "stdout",
          "output_type": "stream",
          "text": [
            "Estou estar\n",
            "aprendendo aprender\n",
            "processamento processamento\n",
            "de de\n",
            "linguagem linguagem\n",
            "natural natural\n",
            ", ,\n",
            "curso curso\n",
            "em em\n",
            "Curitiba Curitiba\n"
          ]
        }
      ],
      "source": [
        "for token in documento:\n",
        "  print(token.text, token.lemma_)"
      ]
    },
    {
      "cell_type": "code",
      "execution_count": 11,
      "metadata": {
        "colab": {
          "base_uri": "https://localhost:8080/",
          "height": 138
        },
        "id": "16bshyFfQSF2",
        "outputId": "c666f457-1cbe-4f88-cde6-f193e0e1cbd6"
      },
      "outputs": [
        {
          "data": {
            "text/plain": [
              "['encontrar',\n",
              " 'encontrar',\n",
              " 'encontrar',\n",
              " 'encontrar',\n",
              " 'cursar',\n",
              " 'curso',\n",
              " 'cursar']"
            ]
          },
          "execution_count": 11,
          "metadata": {},
          "output_type": "execute_result"
        }
      ],
      "source": [
        "doc = pln('encontrei encontraram encontrarão encontrariam cursando curso cursei')\n",
        "[token.lemma_ for token in doc]"
      ]
    },
    {
      "cell_type": "markdown",
      "metadata": {
        "id": "zVz8tGTiZN6C"
      },
      "source": [
        "## Comparação stemização (NLTK) x lematização (spaCy)"
      ]
    },
    {
      "cell_type": "code",
      "execution_count": 12,
      "metadata": {
        "id": "Ww8qgIxXQt7c"
      },
      "outputs": [],
      "source": [
        "#!pip install nltk --upgrade"
      ]
    },
    {
      "cell_type": "code",
      "execution_count": 13,
      "metadata": {
        "colab": {
          "base_uri": "https://localhost:8080/",
          "height": 69
        },
        "id": "A8G04U93QpbA",
        "outputId": "e5c7e076-80d9-48c1-881f-c72d96fa941c"
      },
      "outputs": [
        {
          "name": "stderr",
          "output_type": "stream",
          "text": [
            "[nltk_data] Downloading package rslp to\n",
            "[nltk_data]     C:\\Users\\mhpfe\\AppData\\Roaming\\nltk_data...\n",
            "[nltk_data]   Package rslp is already up-to-date!\n"
          ]
        },
        {
          "data": {
            "text/plain": [
              "True"
            ]
          },
          "execution_count": 13,
          "metadata": {},
          "output_type": "execute_result"
        }
      ],
      "source": [
        "import nltk\n",
        "# nltk.download('rslp')"
      ]
    },
    {
      "cell_type": "code",
      "execution_count": 14,
      "metadata": {
        "colab": {
          "base_uri": "https://localhost:8080/",
          "height": 35
        },
        "id": "Levz2Ci8Q5hm",
        "outputId": "7e45237d-09f9-497c-acce-045be6975df0"
      },
      "outputs": [
        {
          "data": {
            "text/plain": [
              "'aprend'"
            ]
          },
          "execution_count": 14,
          "metadata": {},
          "output_type": "execute_result"
        }
      ],
      "source": [
        "# Load stemmer from NLTK\n",
        "stemmer = nltk.stem.RSLPStemmer()\n",
        "stemmer.stem('aprender')"
      ]
    },
    {
      "cell_type": "code",
      "execution_count": 15,
      "metadata": {
        "colab": {
          "base_uri": "https://localhost:8080/",
          "height": 190
        },
        "id": "DWeL9UDURmEY",
        "outputId": "9b0e8de7-2044-4bda-ae2f-dcdb4afce00c"
      },
      "outputs": [
        {
          "name": "stdout",
          "output_type": "stream",
          "text": [
            "Estou estar est\n",
            "aprendendo aprender aprend\n",
            "processamento processamento process\n",
            "de de de\n",
            "linguagem linguagem lingu\n",
            "natural natural natur\n",
            ", , ,\n",
            "curso curso curs\n",
            "em em em\n",
            "Curitiba Curitiba curitib\n"
          ]
        }
      ],
      "source": [
        "# Visualizing differences between Lemmatization and Stemming\n",
        "for token in documento:\n",
        "  print(token.text, token.lemma_, stemmer.stem(token.text))"
      ]
    },
    {
      "cell_type": "markdown",
      "metadata": {
        "id": "PtacHcwVZ4PH"
      },
      "source": [
        "# Etapa 4: Reconhecimento de entidades nomeadas\n",
        "\n",
        "- NER (Named-Entity Recognition)\n",
        "- Encontrar e classificar entidades no texto, dependendo da base de dados que foi utilizada para o treinamento (pessoa, localização, empresa, numéricos)\n",
        "- Usado em chatbots para saber o assunto falado\n",
        "- Siglas: https://spacy.io/api/annotation#named-entities"
      ]
    },
    {
      "cell_type": "code",
      "execution_count": 16,
      "metadata": {
        "id": "mA_awKp-aq9j"
      },
      "outputs": [],
      "source": [
        "texto = 'A IBM é uma empresa dos Estados Unidos voltada para a área de informática. Sua sede no Brasil fica em São Paulo e a receita em 2018 foi de aproximadamente 320 bilhões de reais'"
      ]
    },
    {
      "cell_type": "code",
      "execution_count": 17,
      "metadata": {
        "id": "ldfPLqpVTlbq"
      },
      "outputs": [],
      "source": [
        "# Load the text string as a PLN object\n",
        "documento = pln(texto)"
      ]
    },
    {
      "cell_type": "code",
      "execution_count": 18,
      "metadata": {
        "colab": {
          "base_uri": "https://localhost:8080/",
          "height": 86
        },
        "id": "-ir1stmgTsbW",
        "outputId": "40ebc5aa-3066-40bf-87f1-53fe8ffea3f1"
      },
      "outputs": [
        {
          "name": "stdout",
          "output_type": "stream",
          "text": [
            "IBM ORG\n",
            "Estados Unidos LOC\n",
            "Brasil LOC\n",
            "São Paulo LOC\n"
          ]
        }
      ],
      "source": [
        "# Visualizing the NER of the document entities\n",
        "for entidade in documento.ents:\n",
        "  print(entidade.text, entidade.label_)"
      ]
    },
    {
      "cell_type": "code",
      "execution_count": 19,
      "metadata": {
        "colab": {
          "base_uri": "https://localhost:8080/",
          "height": 86
        },
        "id": "FfXi2DsYUIU0",
        "outputId": "ae9feb0b-4e74-48e7-c674-6c8be3986225"
      },
      "outputs": [
        {
          "data": {
            "text/html": [
              "<span class=\"tex2jax_ignore\"><div class=\"entities\" style=\"line-height: 2.5; direction: ltr\">A \n",
              "<mark class=\"entity\" style=\"background: #7aecec; padding: 0.45em 0.6em; margin: 0 0.25em; line-height: 1; border-radius: 0.35em;\">\n",
              "    IBM\n",
              "    <span style=\"font-size: 0.8em; font-weight: bold; line-height: 1; border-radius: 0.35em; vertical-align: middle; margin-left: 0.5rem\">ORG</span>\n",
              "</mark>\n",
              " é uma empresa dos \n",
              "<mark class=\"entity\" style=\"background: #ff9561; padding: 0.45em 0.6em; margin: 0 0.25em; line-height: 1; border-radius: 0.35em;\">\n",
              "    Estados Unidos\n",
              "    <span style=\"font-size: 0.8em; font-weight: bold; line-height: 1; border-radius: 0.35em; vertical-align: middle; margin-left: 0.5rem\">LOC</span>\n",
              "</mark>\n",
              " voltada para a área de informática. Sua sede no \n",
              "<mark class=\"entity\" style=\"background: #ff9561; padding: 0.45em 0.6em; margin: 0 0.25em; line-height: 1; border-radius: 0.35em;\">\n",
              "    Brasil\n",
              "    <span style=\"font-size: 0.8em; font-weight: bold; line-height: 1; border-radius: 0.35em; vertical-align: middle; margin-left: 0.5rem\">LOC</span>\n",
              "</mark>\n",
              " fica em \n",
              "<mark class=\"entity\" style=\"background: #ff9561; padding: 0.45em 0.6em; margin: 0 0.25em; line-height: 1; border-radius: 0.35em;\">\n",
              "    São Paulo\n",
              "    <span style=\"font-size: 0.8em; font-weight: bold; line-height: 1; border-radius: 0.35em; vertical-align: middle; margin-left: 0.5rem\">LOC</span>\n",
              "</mark>\n",
              " e a receita em 2018 foi de aproximadamente 320 bilhões de reais</div></span>"
            ],
            "text/plain": [
              "<IPython.core.display.HTML object>"
            ]
          },
          "metadata": {},
          "output_type": "display_data"
        }
      ],
      "source": [
        "# Visual way to see the NER of a text\n",
        "from spacy import displacy\n",
        "displacy.render(documento, style = 'ent', jupyter = True)"
      ]
    },
    {
      "cell_type": "code",
      "execution_count": 20,
      "metadata": {
        "id": "MDPlvRF2cF7Q"
      },
      "outputs": [],
      "source": [
        "texto = 'Bill Gates nasceu em Seattle em 28/10/1955 e foi o criador da Microsoft'"
      ]
    },
    {
      "cell_type": "code",
      "execution_count": 21,
      "metadata": {
        "colab": {
          "base_uri": "https://localhost:8080/",
          "height": 69
        },
        "id": "W00f6-70UYkI",
        "outputId": "4af5ca59-e5b4-4dba-db13-c7e0c5c96974"
      },
      "outputs": [
        {
          "name": "stdout",
          "output_type": "stream",
          "text": [
            "Bill Gates PER\n",
            "Seattle LOC\n",
            "Microsoft ORG\n"
          ]
        }
      ],
      "source": [
        "documento = pln(texto)\n",
        "for entidade in documento.ents:\n",
        "  print(entidade.text, entidade.label_)"
      ]
    },
    {
      "cell_type": "code",
      "execution_count": 22,
      "metadata": {
        "colab": {
          "base_uri": "https://localhost:8080/",
          "height": 52
        },
        "id": "vQOX_rbNUlCh",
        "outputId": "ac3f3943-3fdb-468d-f5a5-52e18000d78b"
      },
      "outputs": [
        {
          "data": {
            "text/html": [
              "<span class=\"tex2jax_ignore\"><div class=\"entities\" style=\"line-height: 2.5; direction: ltr\">\n",
              "<mark class=\"entity\" style=\"background: #ddd; padding: 0.45em 0.6em; margin: 0 0.25em; line-height: 1; border-radius: 0.35em;\">\n",
              "    Bill Gates\n",
              "    <span style=\"font-size: 0.8em; font-weight: bold; line-height: 1; border-radius: 0.35em; vertical-align: middle; margin-left: 0.5rem\">PER</span>\n",
              "</mark>\n",
              " nasceu em \n",
              "<mark class=\"entity\" style=\"background: #ff9561; padding: 0.45em 0.6em; margin: 0 0.25em; line-height: 1; border-radius: 0.35em;\">\n",
              "    Seattle\n",
              "    <span style=\"font-size: 0.8em; font-weight: bold; line-height: 1; border-radius: 0.35em; vertical-align: middle; margin-left: 0.5rem\">LOC</span>\n",
              "</mark>\n",
              " em 28/10/1955 e foi o criador da \n",
              "<mark class=\"entity\" style=\"background: #7aecec; padding: 0.45em 0.6em; margin: 0 0.25em; line-height: 1; border-radius: 0.35em;\">\n",
              "    Microsoft\n",
              "    <span style=\"font-size: 0.8em; font-weight: bold; line-height: 1; border-radius: 0.35em; vertical-align: middle; margin-left: 0.5rem\">ORG</span>\n",
              "</mark>\n",
              "</div></span>"
            ],
            "text/plain": [
              "<IPython.core.display.HTML object>"
            ]
          },
          "metadata": {},
          "output_type": "display_data"
        }
      ],
      "source": [
        "displacy.render(documento, style = 'ent', jupyter = True)"
      ]
    },
    {
      "cell_type": "code",
      "execution_count": 23,
      "metadata": {
        "colab": {
          "base_uri": "https://localhost:8080/",
          "height": 35
        },
        "id": "86ecZ6oDUsQv",
        "outputId": "05db106a-1854-44ae-95ab-ccc0976d7516"
      },
      "outputs": [
        {
          "name": "stdout",
          "output_type": "stream",
          "text": [
            "Bill Gates\n"
          ]
        }
      ],
      "source": [
        "for entidade in documento.ents:\n",
        "  if entidade.label_ == 'PER':\n",
        "    print(entidade.text)"
      ]
    },
    {
      "cell_type": "markdown",
      "metadata": {
        "id": "Gt4Rg6ekdsmF"
      },
      "source": [
        "# Etapa 5: Stopwords"
      ]
    },
    {
      "cell_type": "markdown",
      "metadata": {
        "id": "Stg3FUaoeW4I"
      },
      "source": [
        "- Palavras que aparecem com muita frequência e que não apresentam muito significado (e, a, de, da, etc)"
      ]
    },
    {
      "cell_type": "code",
      "execution_count": 24,
      "metadata": {
        "id": "MQ2Mxo4vVZ-w"
      },
      "outputs": [],
      "source": [
        "# Load spacy object to identify stop words from the portuguese language\n",
        "from spacy.lang.pt.stop_words import STOP_WORDS"
      ]
    },
    {
      "cell_type": "code",
      "execution_count": 25,
      "metadata": {
        "colab": {
          "base_uri": "https://localhost:8080/",
          "height": 55
        },
        "id": "_FZdoyg2VgdF",
        "outputId": "e0f69c28-629f-4ac3-fc4d-8a084c4b007f"
      },
      "outputs": [
        {
          "name": "stdout",
          "output_type": "stream",
          "text": [
            "{'ela', 'deste', 'sétimo', 'demais', 'partir', 'pela', 'próprio', 'exemplo', 'tempo', 'quieta', 'sexta', 'lá', 'cento', 'umas', 'mas', 'conhecida', 'me', 'número', 'final', 'ponto', 'cuja', 'tiveste', 'fazer', 'pelos', 'sou', 'quem', 'através', 'deverá', 'pelas', 'tentaram', 'somente', 'até', 'desde', 'nem', 'meu', 'vão', 'conhecido', 'estado', 'estivemos', 'parece', 'vossas', 'sob', 'dos', 'cinco', 'portanto', 'estiveste', 'ambas', 'cima', 'neste', 'algumas', 'primeira', 'isso', 'baixo', 'tais', 'se', 'têm', 'às', 'fui', 'nuns', 'seis', 'terceira', 'pôde', 'números', 'pontos', 'qualquer', 'este', 'para', 'nível', 'quanto', 'vinte', 'for', 'porquê', 'deve', 'estivestes', 'nossos', 'oitava', 'talvez', 'podem', 'porquanto', 'diz', 'apontar', 'ainda', 'quando', 'isto', 'primeiro', 'comprida', 'cujo', 'grandes', 'ali', 'como', 'bem', 'poder', 'meses', 'pois', 'nossa', 'eventual', 'tens', 'outros', 'esteve', 'elas', 'sim', 'nos', 'logo', 'não', 'fará', 'vem', 'pelo', 'pode', 'oitavo', 'porque', 'podia', 'estará', 'ser', 'obrigado', 'grupo', 'na', 'diante', 'nove', 'toda', 'antes', 'fez', 'vós', 'inicio', 'usa', 'teu', 'breve', 'sua', 'são', 'tu', 'possivelmente', 'tiveram', 'seu', 'foste', 'saber', 'estes', 'ao', 'sistema', 'ele', 'máximo', 'apenas', 'mil', 'ora', 'quinto', 'quero', 'fim', 'tão', 'quarto', 'tarde', 'quinta', 'ou', 'dois', 'nesta', 'estas', 'num', 'quais', 'menor', 'embora', 'devem', 'do', 'novas', 'temos', 'tem', 'zero', 'algo', 'dizer', 'ambos', 'assim', 'nova', 'sete', 'acerca', 'contra', 'era', 'o', 'inclusive', 'nossas', 'vos', 'grande', 'a', 'próximo', 'cá', 'usar', 'da', 'disso', 'certeza', 'debaixo', 'doze', 'das', 'pouco', 'os', 'foram', 'atrás', 'tivemos', 'esta', 'terceiro', 'sem', 'tentei', 'à', 'tente', 'treze', 'tal', 'puderam', 'tendes', 'relação', 'nenhuma', 'lado', 'bastante', 'dez', 'que', 'des', 'estão', 'dezanove', 'sexto', 'estou', 'catorze', 'eu', 'esse', 'contudo', 'oito', 'essa', 'fazia', 'uma', 'geral', 'sois', 'tanto', 'de', 'fazem', 'custa', 'vai', 'querem', 'vezes', 'naquela', 'além', 'tenho', 'põem', 'boa', 'todo', 'fazeis', 'último', 'tive', 'estiveram', 'lhe', 'posição', 'quieto', 'estás', 'então', 'ademais', 'minha', 'nada', 'área', 'com', 'seria', 'aqueles', 'daquele', 'segunda', 'fostes', 'adeus', 'segundo', 'tentar', 'conselho', 'pouca', 'posso', 'e', 'sempre', 'direita', 'pegar', 'ver', 'longe', 'foi', 'aquele', 'estava', 'ligado', 'próxima', 'desta', 'mais', 'outra', 'coisa', 'dão', 'minhas', 'essas', 'aquela', 'nós', 'após', 'te', 'onde', 'aqui', 'novo', 'meio', 'quinze', 'obrigada', 'dezoito', 'entre', 'aí', 'nesse', 'muitos', 'poderá', 'numa', 'vossa', 'aquelas', 'vários', 'irá', 'ontem', 'porém', 'teus', 'fazes', 'sabe', 'tuas', 'qual', 'também', 'apoio', 'favor', 'sei', 'aos', 'tua', 'nosso', 'estar', 'iniciar', 'quarta', 'vez', 'ter', 'quer', 'está', 'duas', 'tanta', 'ir', 'meus', 'é', 'aquilo', 'cedo', 'quatro', 'vais', 'onze', 'bom', 'dentro', 'suas', 'cada', 'estive', 'falta', 'faço', 'comprido', 'quê', 'vocês', 'questão', 'em', 'apoia', 'nunca', 'nas', 'daquela', 'naquele', 'no', 'somos', 'vossos', 'mal', 'perto', 'um', 'tudo', 'valor', 'sobre', 'tipo', 'lugar', 'desse', 'fomos', 'outras', 'teve', 'fazemos', 'maioria', 'vens', 'mês', 'todas', 'uns', 'dezassete', 'vinda', 'depois', 'esses', 'parte', 'enquanto', 'tivestes', 'alguns', 'fora', 'todos', 'dessa', 'maiorias', 'agora', 'três', 'só', 'certamente', 'local', 'povo', 'muito', 'por', 'as', 'põe', 'veja', 'novos', 'dizem', 'eles', 'forma', 'vosso', 'já', 'vêm', 'dá', 'você', 'menos', 'dezasseis', 'mesmo', 'caminho', 'sétima', 'és', 'momento', 'dar', 'possível', 'maior', 'corrente', 'nessa', 'vindo', 'faz', 'seus'}\n"
          ]
        }
      ],
      "source": [
        "print(STOP_WORDS)"
      ]
    },
    {
      "cell_type": "code",
      "execution_count": 26,
      "metadata": {
        "colab": {
          "base_uri": "https://localhost:8080/",
          "height": 35
        },
        "id": "ebS0ad1CVpD8",
        "outputId": "e3a701cd-5ef5-4218-eb42-b346eb6210cc"
      },
      "outputs": [
        {
          "data": {
            "text/plain": [
              "416"
            ]
          },
          "execution_count": 26,
          "metadata": {},
          "output_type": "execute_result"
        }
      ],
      "source": [
        "len(STOP_WORDS)"
      ]
    },
    {
      "cell_type": "code",
      "execution_count": 27,
      "metadata": {
        "colab": {
          "base_uri": "https://localhost:8080/",
          "height": 35
        },
        "id": "_k3mNHEBVtWr",
        "outputId": "b2a81727-2917-40cb-b4f6-1345bcae9779"
      },
      "outputs": [
        {
          "data": {
            "text/plain": [
              "True"
            ]
          },
          "execution_count": 27,
          "metadata": {},
          "output_type": "execute_result"
        }
      ],
      "source": [
        "# Spacy method to verify if a text is a stop word\n",
        "pln.vocab['ir'].is_stop"
      ]
    },
    {
      "cell_type": "code",
      "execution_count": 28,
      "metadata": {
        "colab": {
          "base_uri": "https://localhost:8080/",
          "height": 35
        },
        "id": "JQmM-k23V1Mk",
        "outputId": "40eda224-f785-466d-b36d-20529071a066"
      },
      "outputs": [
        {
          "data": {
            "text/plain": [
              "False"
            ]
          },
          "execution_count": 28,
          "metadata": {},
          "output_type": "execute_result"
        }
      ],
      "source": [
        "pln.vocab['caminhar'].is_stop"
      ]
    },
    {
      "cell_type": "code",
      "execution_count": 29,
      "metadata": {
        "id": "5H4eI813V8h7"
      },
      "outputs": [],
      "source": [
        "documento = pln('Estou aprendendo processamento de linguagem natural, curso em Curitiba')"
      ]
    },
    {
      "cell_type": "code",
      "execution_count": 30,
      "metadata": {
        "colab": {
          "base_uri": "https://localhost:8080/",
          "height": 138
        },
        "id": "jVtMxX__WE9y",
        "outputId": "373c9e85-1470-4468-dce4-e6baae26e468"
      },
      "outputs": [
        {
          "name": "stdout",
          "output_type": "stream",
          "text": [
            "aprendendo\n",
            "processamento\n",
            "linguagem\n",
            "natural\n",
            ",\n",
            "curso\n",
            "Curitiba\n"
          ]
        }
      ],
      "source": [
        "# Verify which word is not a stop word\n",
        "for token in documento:\n",
        "  if not pln.vocab[token.text].is_stop:\n",
        "    print(token.text)"
      ]
    },
    {
      "cell_type": "markdown",
      "metadata": {
        "id": "Xi7gpbH1fwvM"
      },
      "source": [
        "# Etapa 6: Parsing de dependências\n",
        "\n",
        "- Relação pai-filho entre as palavras"
      ]
    },
    {
      "cell_type": "markdown",
      "metadata": {
        "id": "BVzGp1zLohyU"
      },
      "source": [
        "## Exemplo 1"
      ]
    },
    {
      "cell_type": "code",
      "execution_count": 31,
      "metadata": {
        "id": "JDYw7Hj9dMgG"
      },
      "outputs": [],
      "source": [
        "documento = pln('reserve uma passagem saindo de Guarulhos e chegando em Curitiba')"
      ]
    },
    {
      "cell_type": "code",
      "execution_count": 32,
      "metadata": {
        "colab": {
          "base_uri": "https://localhost:8080/",
          "height": 35
        },
        "id": "Vh2IjFfldY5T",
        "outputId": "0ff4c381-c8d4-41b9-f698-2422d6444bc0"
      },
      "outputs": [
        {
          "data": {
            "text/plain": [
              "(Guarulhos, Curitiba)"
            ]
          },
          "execution_count": 32,
          "metadata": {},
          "output_type": "execute_result"
        }
      ],
      "source": [
        "origem = documento[5]\n",
        "destino = documento[9]\n",
        "origem, destino"
      ]
    },
    {
      "cell_type": "code",
      "execution_count": 33,
      "metadata": {
        "colab": {
          "base_uri": "https://localhost:8080/",
          "height": 35
        },
        "id": "DZa2XP8wdmej",
        "outputId": "79edb072-3188-4afa-ef47-18718b17a733"
      },
      "outputs": [
        {
          "data": {
            "text/plain": [
              "[saindo, passagem, reserve]"
            ]
          },
          "execution_count": 33,
          "metadata": {},
          "output_type": "execute_result"
        }
      ],
      "source": [
        "list(origem.ancestors)"
      ]
    },
    {
      "cell_type": "code",
      "execution_count": 34,
      "metadata": {
        "colab": {
          "base_uri": "https://localhost:8080/",
          "height": 35
        },
        "id": "O411j0dQdyUt",
        "outputId": "082199b8-0d0d-4046-a916-22194e297333"
      },
      "outputs": [
        {
          "data": {
            "text/plain": [
              "[chegando, saindo, passagem, reserve]"
            ]
          },
          "execution_count": 34,
          "metadata": {},
          "output_type": "execute_result"
        }
      ],
      "source": [
        "list(destino.ancestors)"
      ]
    },
    {
      "cell_type": "code",
      "execution_count": 35,
      "metadata": {
        "colab": {
          "base_uri": "https://localhost:8080/",
          "height": 35
        },
        "id": "jRjT1GWReP7T",
        "outputId": "5cf92a3a-6eab-4064-8ce5-cb9dcd6f5cf3"
      },
      "outputs": [
        {
          "data": {
            "text/plain": [
              "True"
            ]
          },
          "execution_count": 35,
          "metadata": {},
          "output_type": "execute_result"
        }
      ],
      "source": [
        "documento[0].is_ancestor(documento[2])"
      ]
    },
    {
      "cell_type": "markdown",
      "metadata": {
        "id": "i5j9bqKvokEj"
      },
      "source": [
        "## Exemplo 2"
      ]
    },
    {
      "cell_type": "code",
      "execution_count": 36,
      "metadata": {
        "id": "ZiQPTG4xevSh"
      },
      "outputs": [],
      "source": [
        "documento = pln('Reserva de uma mesa para o restaurante e de um táxi para o hotel')"
      ]
    },
    {
      "cell_type": "code",
      "execution_count": 37,
      "metadata": {
        "id": "OstZUBbne4EN"
      },
      "outputs": [],
      "source": [
        "tarefas = documento[3], documento[10]\n",
        "locais = documento[6], documento[13]"
      ]
    },
    {
      "cell_type": "code",
      "execution_count": 38,
      "metadata": {
        "colab": {
          "base_uri": "https://localhost:8080/",
          "height": 35
        },
        "id": "dzMFFPgVfA8Z",
        "outputId": "fc0ddc52-e08f-489f-832a-1391efb69923"
      },
      "outputs": [
        {
          "data": {
            "text/plain": [
              "((mesa, táxi), (restaurante, hotel))"
            ]
          },
          "execution_count": 38,
          "metadata": {},
          "output_type": "execute_result"
        }
      ],
      "source": [
        "tarefas, locais"
      ]
    },
    {
      "cell_type": "code",
      "execution_count": 39,
      "metadata": {
        "colab": {
          "base_uri": "https://localhost:8080/",
          "height": 155
        },
        "id": "AL2g1U62fTNg",
        "outputId": "c5e6b0ac-4747-4e64-bbc4-705508a7edb0"
      },
      "outputs": [
        {
          "name": "stdout",
          "output_type": "stream",
          "text": [
            "----- restaurante\n",
            "mesa\n",
            "Reserva\n",
            "----- hotel\n",
            "táxi\n",
            "restaurante\n",
            "mesa\n",
            "Reserva\n"
          ]
        }
      ],
      "source": [
        "for local in locais:\n",
        "  print('-----', local)\n",
        "  for objeto in local.ancestors:\n",
        "    print(objeto)"
      ]
    },
    {
      "cell_type": "code",
      "execution_count": 40,
      "metadata": {
        "colab": {
          "base_uri": "https://localhost:8080/",
          "height": 52
        },
        "id": "fkfypRypfzbN",
        "outputId": "cb176392-73d4-44e9-cc34-c49a04a254da"
      },
      "outputs": [
        {
          "name": "stdout",
          "output_type": "stream",
          "text": [
            "Reserva de mesa é para o restaurante\n",
            "Reserva de táxi é para o hotel\n"
          ]
        }
      ],
      "source": [
        "for local in locais:\n",
        "  for objeto in local.ancestors:\n",
        "    if objeto in tarefas:\n",
        "      print(\"Reserva de {} é para o {}\".format(objeto, local))\n",
        "      break"
      ]
    },
    {
      "cell_type": "code",
      "execution_count": 41,
      "metadata": {
        "colab": {
          "base_uri": "https://localhost:8080/",
          "height": 35
        },
        "id": "R6p3b25SgmLB",
        "outputId": "b9c9ac86-c642-498e-b4ee-56a76a8074bf"
      },
      "outputs": [
        {
          "data": {
            "text/plain": [
              "[para, o, táxi]"
            ]
          },
          "execution_count": 41,
          "metadata": {},
          "output_type": "execute_result"
        }
      ],
      "source": [
        "list(documento[6].children)"
      ]
    },
    {
      "cell_type": "markdown",
      "metadata": {
        "id": "NRXWYfXbol9-"
      },
      "source": [
        "## Exemplo 3"
      ]
    },
    {
      "cell_type": "code",
      "execution_count": 42,
      "metadata": {
        "id": "5m5mEyhohKpS"
      },
      "outputs": [],
      "source": [
        "from spacy import displacy"
      ]
    },
    {
      "cell_type": "code",
      "execution_count": 43,
      "metadata": {
        "id": "g2Dr629nhQu5"
      },
      "outputs": [],
      "source": [
        "documento = pln('Reserva de uma mesa para o restaurante e de um táxi para o hotel')"
      ]
    },
    {
      "cell_type": "code",
      "execution_count": 44,
      "metadata": {
        "colab": {
          "base_uri": "https://localhost:8080/",
          "height": 358
        },
        "id": "PROUVvRHhUp-",
        "outputId": "5ba63634-8e2b-429e-8014-0ed4d438e226"
      },
      "outputs": [
        {
          "data": {
            "text/html": [
              "<span class=\"tex2jax_ignore\"><svg xmlns=\"http://www.w3.org/2000/svg\" xmlns:xlink=\"http://www.w3.org/1999/xlink\" xml:lang=\"pt\" id=\"0135b8c121c84d8aaf09772be736fb37-0\" class=\"displacy\" width=\"1310\" height=\"317.0\" direction=\"ltr\" style=\"max-width: none; height: 317.0px; color: #000000; background: #ffffff; font-family: Arial; direction: ltr\">\n",
              "<text class=\"displacy-token\" fill=\"currentColor\" text-anchor=\"middle\" y=\"227.0\">\n",
              "    <tspan class=\"displacy-word\" fill=\"currentColor\" x=\"50\">Reserva</tspan>\n",
              "    <tspan class=\"displacy-tag\" dy=\"2em\" fill=\"currentColor\" x=\"50\">PROPN</tspan>\n",
              "</text>\n",
              "\n",
              "<text class=\"displacy-token\" fill=\"currentColor\" text-anchor=\"middle\" y=\"227.0\">\n",
              "    <tspan class=\"displacy-word\" fill=\"currentColor\" x=\"140\">de</tspan>\n",
              "    <tspan class=\"displacy-tag\" dy=\"2em\" fill=\"currentColor\" x=\"140\">ADP</tspan>\n",
              "</text>\n",
              "\n",
              "<text class=\"displacy-token\" fill=\"currentColor\" text-anchor=\"middle\" y=\"227.0\">\n",
              "    <tspan class=\"displacy-word\" fill=\"currentColor\" x=\"230\">uma</tspan>\n",
              "    <tspan class=\"displacy-tag\" dy=\"2em\" fill=\"currentColor\" x=\"230\">DET</tspan>\n",
              "</text>\n",
              "\n",
              "<text class=\"displacy-token\" fill=\"currentColor\" text-anchor=\"middle\" y=\"227.0\">\n",
              "    <tspan class=\"displacy-word\" fill=\"currentColor\" x=\"320\">mesa</tspan>\n",
              "    <tspan class=\"displacy-tag\" dy=\"2em\" fill=\"currentColor\" x=\"320\">NOUN</tspan>\n",
              "</text>\n",
              "\n",
              "<text class=\"displacy-token\" fill=\"currentColor\" text-anchor=\"middle\" y=\"227.0\">\n",
              "    <tspan class=\"displacy-word\" fill=\"currentColor\" x=\"410\">para</tspan>\n",
              "    <tspan class=\"displacy-tag\" dy=\"2em\" fill=\"currentColor\" x=\"410\">ADP</tspan>\n",
              "</text>\n",
              "\n",
              "<text class=\"displacy-token\" fill=\"currentColor\" text-anchor=\"middle\" y=\"227.0\">\n",
              "    <tspan class=\"displacy-word\" fill=\"currentColor\" x=\"500\">o</tspan>\n",
              "    <tspan class=\"displacy-tag\" dy=\"2em\" fill=\"currentColor\" x=\"500\">DET</tspan>\n",
              "</text>\n",
              "\n",
              "<text class=\"displacy-token\" fill=\"currentColor\" text-anchor=\"middle\" y=\"227.0\">\n",
              "    <tspan class=\"displacy-word\" fill=\"currentColor\" x=\"590\">restaurante</tspan>\n",
              "    <tspan class=\"displacy-tag\" dy=\"2em\" fill=\"currentColor\" x=\"590\">NOUN</tspan>\n",
              "</text>\n",
              "\n",
              "<text class=\"displacy-token\" fill=\"currentColor\" text-anchor=\"middle\" y=\"227.0\">\n",
              "    <tspan class=\"displacy-word\" fill=\"currentColor\" x=\"680\">e</tspan>\n",
              "    <tspan class=\"displacy-tag\" dy=\"2em\" fill=\"currentColor\" x=\"680\">CCONJ</tspan>\n",
              "</text>\n",
              "\n",
              "<text class=\"displacy-token\" fill=\"currentColor\" text-anchor=\"middle\" y=\"227.0\">\n",
              "    <tspan class=\"displacy-word\" fill=\"currentColor\" x=\"770\">de</tspan>\n",
              "    <tspan class=\"displacy-tag\" dy=\"2em\" fill=\"currentColor\" x=\"770\">ADP</tspan>\n",
              "</text>\n",
              "\n",
              "<text class=\"displacy-token\" fill=\"currentColor\" text-anchor=\"middle\" y=\"227.0\">\n",
              "    <tspan class=\"displacy-word\" fill=\"currentColor\" x=\"860\">um</tspan>\n",
              "    <tspan class=\"displacy-tag\" dy=\"2em\" fill=\"currentColor\" x=\"860\">DET</tspan>\n",
              "</text>\n",
              "\n",
              "<text class=\"displacy-token\" fill=\"currentColor\" text-anchor=\"middle\" y=\"227.0\">\n",
              "    <tspan class=\"displacy-word\" fill=\"currentColor\" x=\"950\">táxi</tspan>\n",
              "    <tspan class=\"displacy-tag\" dy=\"2em\" fill=\"currentColor\" x=\"950\">NOUN</tspan>\n",
              "</text>\n",
              "\n",
              "<text class=\"displacy-token\" fill=\"currentColor\" text-anchor=\"middle\" y=\"227.0\">\n",
              "    <tspan class=\"displacy-word\" fill=\"currentColor\" x=\"1040\">para</tspan>\n",
              "    <tspan class=\"displacy-tag\" dy=\"2em\" fill=\"currentColor\" x=\"1040\">ADP</tspan>\n",
              "</text>\n",
              "\n",
              "<text class=\"displacy-token\" fill=\"currentColor\" text-anchor=\"middle\" y=\"227.0\">\n",
              "    <tspan class=\"displacy-word\" fill=\"currentColor\" x=\"1130\">o</tspan>\n",
              "    <tspan class=\"displacy-tag\" dy=\"2em\" fill=\"currentColor\" x=\"1130\">DET</tspan>\n",
              "</text>\n",
              "\n",
              "<text class=\"displacy-token\" fill=\"currentColor\" text-anchor=\"middle\" y=\"227.0\">\n",
              "    <tspan class=\"displacy-word\" fill=\"currentColor\" x=\"1220\">hotel</tspan>\n",
              "    <tspan class=\"displacy-tag\" dy=\"2em\" fill=\"currentColor\" x=\"1220\">NOUN</tspan>\n",
              "</text>\n",
              "\n",
              "<g class=\"displacy-arrow\">\n",
              "    <path class=\"displacy-arc\" id=\"arrow-0135b8c121c84d8aaf09772be736fb37-0-0\" stroke-width=\"2px\" d=\"M160,182.0 C160,92.0 310.0,92.0 310.0,182.0\" fill=\"none\" stroke=\"currentColor\"/>\n",
              "    <text dy=\"1.25em\" style=\"font-size: 0.8em; letter-spacing: 1px\">\n",
              "        <textPath xlink:href=\"#arrow-0135b8c121c84d8aaf09772be736fb37-0-0\" class=\"displacy-label\" startOffset=\"50%\" side=\"left\" fill=\"currentColor\" text-anchor=\"middle\">case</textPath>\n",
              "    </text>\n",
              "    <path class=\"displacy-arrowhead\" d=\"M160,184.0 L152,172.0 168,172.0\" fill=\"currentColor\"/>\n",
              "</g>\n",
              "\n",
              "<g class=\"displacy-arrow\">\n",
              "    <path class=\"displacy-arc\" id=\"arrow-0135b8c121c84d8aaf09772be736fb37-0-1\" stroke-width=\"2px\" d=\"M250,182.0 C250,137.0 305.0,137.0 305.0,182.0\" fill=\"none\" stroke=\"currentColor\"/>\n",
              "    <text dy=\"1.25em\" style=\"font-size: 0.8em; letter-spacing: 1px\">\n",
              "        <textPath xlink:href=\"#arrow-0135b8c121c84d8aaf09772be736fb37-0-1\" class=\"displacy-label\" startOffset=\"50%\" side=\"left\" fill=\"currentColor\" text-anchor=\"middle\">det</textPath>\n",
              "    </text>\n",
              "    <path class=\"displacy-arrowhead\" d=\"M250,184.0 L242,172.0 258,172.0\" fill=\"currentColor\"/>\n",
              "</g>\n",
              "\n",
              "<g class=\"displacy-arrow\">\n",
              "    <path class=\"displacy-arc\" id=\"arrow-0135b8c121c84d8aaf09772be736fb37-0-2\" stroke-width=\"2px\" d=\"M70,182.0 C70,47.0 315.0,47.0 315.0,182.0\" fill=\"none\" stroke=\"currentColor\"/>\n",
              "    <text dy=\"1.25em\" style=\"font-size: 0.8em; letter-spacing: 1px\">\n",
              "        <textPath xlink:href=\"#arrow-0135b8c121c84d8aaf09772be736fb37-0-2\" class=\"displacy-label\" startOffset=\"50%\" side=\"left\" fill=\"currentColor\" text-anchor=\"middle\">nmod</textPath>\n",
              "    </text>\n",
              "    <path class=\"displacy-arrowhead\" d=\"M315.0,184.0 L323.0,172.0 307.0,172.0\" fill=\"currentColor\"/>\n",
              "</g>\n",
              "\n",
              "<g class=\"displacy-arrow\">\n",
              "    <path class=\"displacy-arc\" id=\"arrow-0135b8c121c84d8aaf09772be736fb37-0-3\" stroke-width=\"2px\" d=\"M430,182.0 C430,92.0 580.0,92.0 580.0,182.0\" fill=\"none\" stroke=\"currentColor\"/>\n",
              "    <text dy=\"1.25em\" style=\"font-size: 0.8em; letter-spacing: 1px\">\n",
              "        <textPath xlink:href=\"#arrow-0135b8c121c84d8aaf09772be736fb37-0-3\" class=\"displacy-label\" startOffset=\"50%\" side=\"left\" fill=\"currentColor\" text-anchor=\"middle\">case</textPath>\n",
              "    </text>\n",
              "    <path class=\"displacy-arrowhead\" d=\"M430,184.0 L422,172.0 438,172.0\" fill=\"currentColor\"/>\n",
              "</g>\n",
              "\n",
              "<g class=\"displacy-arrow\">\n",
              "    <path class=\"displacy-arc\" id=\"arrow-0135b8c121c84d8aaf09772be736fb37-0-4\" stroke-width=\"2px\" d=\"M520,182.0 C520,137.0 575.0,137.0 575.0,182.0\" fill=\"none\" stroke=\"currentColor\"/>\n",
              "    <text dy=\"1.25em\" style=\"font-size: 0.8em; letter-spacing: 1px\">\n",
              "        <textPath xlink:href=\"#arrow-0135b8c121c84d8aaf09772be736fb37-0-4\" class=\"displacy-label\" startOffset=\"50%\" side=\"left\" fill=\"currentColor\" text-anchor=\"middle\">det</textPath>\n",
              "    </text>\n",
              "    <path class=\"displacy-arrowhead\" d=\"M520,184.0 L512,172.0 528,172.0\" fill=\"currentColor\"/>\n",
              "</g>\n",
              "\n",
              "<g class=\"displacy-arrow\">\n",
              "    <path class=\"displacy-arc\" id=\"arrow-0135b8c121c84d8aaf09772be736fb37-0-5\" stroke-width=\"2px\" d=\"M340,182.0 C340,47.0 585.0,47.0 585.0,182.0\" fill=\"none\" stroke=\"currentColor\"/>\n",
              "    <text dy=\"1.25em\" style=\"font-size: 0.8em; letter-spacing: 1px\">\n",
              "        <textPath xlink:href=\"#arrow-0135b8c121c84d8aaf09772be736fb37-0-5\" class=\"displacy-label\" startOffset=\"50%\" side=\"left\" fill=\"currentColor\" text-anchor=\"middle\">nmod</textPath>\n",
              "    </text>\n",
              "    <path class=\"displacy-arrowhead\" d=\"M585.0,184.0 L593.0,172.0 577.0,172.0\" fill=\"currentColor\"/>\n",
              "</g>\n",
              "\n",
              "<g class=\"displacy-arrow\">\n",
              "    <path class=\"displacy-arc\" id=\"arrow-0135b8c121c84d8aaf09772be736fb37-0-6\" stroke-width=\"2px\" d=\"M700,182.0 C700,47.0 945.0,47.0 945.0,182.0\" fill=\"none\" stroke=\"currentColor\"/>\n",
              "    <text dy=\"1.25em\" style=\"font-size: 0.8em; letter-spacing: 1px\">\n",
              "        <textPath xlink:href=\"#arrow-0135b8c121c84d8aaf09772be736fb37-0-6\" class=\"displacy-label\" startOffset=\"50%\" side=\"left\" fill=\"currentColor\" text-anchor=\"middle\">cc</textPath>\n",
              "    </text>\n",
              "    <path class=\"displacy-arrowhead\" d=\"M700,184.0 L692,172.0 708,172.0\" fill=\"currentColor\"/>\n",
              "</g>\n",
              "\n",
              "<g class=\"displacy-arrow\">\n",
              "    <path class=\"displacy-arc\" id=\"arrow-0135b8c121c84d8aaf09772be736fb37-0-7\" stroke-width=\"2px\" d=\"M790,182.0 C790,92.0 940.0,92.0 940.0,182.0\" fill=\"none\" stroke=\"currentColor\"/>\n",
              "    <text dy=\"1.25em\" style=\"font-size: 0.8em; letter-spacing: 1px\">\n",
              "        <textPath xlink:href=\"#arrow-0135b8c121c84d8aaf09772be736fb37-0-7\" class=\"displacy-label\" startOffset=\"50%\" side=\"left\" fill=\"currentColor\" text-anchor=\"middle\">case</textPath>\n",
              "    </text>\n",
              "    <path class=\"displacy-arrowhead\" d=\"M790,184.0 L782,172.0 798,172.0\" fill=\"currentColor\"/>\n",
              "</g>\n",
              "\n",
              "<g class=\"displacy-arrow\">\n",
              "    <path class=\"displacy-arc\" id=\"arrow-0135b8c121c84d8aaf09772be736fb37-0-8\" stroke-width=\"2px\" d=\"M880,182.0 C880,137.0 935.0,137.0 935.0,182.0\" fill=\"none\" stroke=\"currentColor\"/>\n",
              "    <text dy=\"1.25em\" style=\"font-size: 0.8em; letter-spacing: 1px\">\n",
              "        <textPath xlink:href=\"#arrow-0135b8c121c84d8aaf09772be736fb37-0-8\" class=\"displacy-label\" startOffset=\"50%\" side=\"left\" fill=\"currentColor\" text-anchor=\"middle\">det</textPath>\n",
              "    </text>\n",
              "    <path class=\"displacy-arrowhead\" d=\"M880,184.0 L872,172.0 888,172.0\" fill=\"currentColor\"/>\n",
              "</g>\n",
              "\n",
              "<g class=\"displacy-arrow\">\n",
              "    <path class=\"displacy-arc\" id=\"arrow-0135b8c121c84d8aaf09772be736fb37-0-9\" stroke-width=\"2px\" d=\"M610,182.0 C610,2.0 950.0,2.0 950.0,182.0\" fill=\"none\" stroke=\"currentColor\"/>\n",
              "    <text dy=\"1.25em\" style=\"font-size: 0.8em; letter-spacing: 1px\">\n",
              "        <textPath xlink:href=\"#arrow-0135b8c121c84d8aaf09772be736fb37-0-9\" class=\"displacy-label\" startOffset=\"50%\" side=\"left\" fill=\"currentColor\" text-anchor=\"middle\">conj</textPath>\n",
              "    </text>\n",
              "    <path class=\"displacy-arrowhead\" d=\"M950.0,184.0 L958.0,172.0 942.0,172.0\" fill=\"currentColor\"/>\n",
              "</g>\n",
              "\n",
              "<g class=\"displacy-arrow\">\n",
              "    <path class=\"displacy-arc\" id=\"arrow-0135b8c121c84d8aaf09772be736fb37-0-10\" stroke-width=\"2px\" d=\"M1060,182.0 C1060,92.0 1210.0,92.0 1210.0,182.0\" fill=\"none\" stroke=\"currentColor\"/>\n",
              "    <text dy=\"1.25em\" style=\"font-size: 0.8em; letter-spacing: 1px\">\n",
              "        <textPath xlink:href=\"#arrow-0135b8c121c84d8aaf09772be736fb37-0-10\" class=\"displacy-label\" startOffset=\"50%\" side=\"left\" fill=\"currentColor\" text-anchor=\"middle\">case</textPath>\n",
              "    </text>\n",
              "    <path class=\"displacy-arrowhead\" d=\"M1060,184.0 L1052,172.0 1068,172.0\" fill=\"currentColor\"/>\n",
              "</g>\n",
              "\n",
              "<g class=\"displacy-arrow\">\n",
              "    <path class=\"displacy-arc\" id=\"arrow-0135b8c121c84d8aaf09772be736fb37-0-11\" stroke-width=\"2px\" d=\"M1150,182.0 C1150,137.0 1205.0,137.0 1205.0,182.0\" fill=\"none\" stroke=\"currentColor\"/>\n",
              "    <text dy=\"1.25em\" style=\"font-size: 0.8em; letter-spacing: 1px\">\n",
              "        <textPath xlink:href=\"#arrow-0135b8c121c84d8aaf09772be736fb37-0-11\" class=\"displacy-label\" startOffset=\"50%\" side=\"left\" fill=\"currentColor\" text-anchor=\"middle\">det</textPath>\n",
              "    </text>\n",
              "    <path class=\"displacy-arrowhead\" d=\"M1150,184.0 L1142,172.0 1158,172.0\" fill=\"currentColor\"/>\n",
              "</g>\n",
              "\n",
              "<g class=\"displacy-arrow\">\n",
              "    <path class=\"displacy-arc\" id=\"arrow-0135b8c121c84d8aaf09772be736fb37-0-12\" stroke-width=\"2px\" d=\"M970,182.0 C970,47.0 1215.0,47.0 1215.0,182.0\" fill=\"none\" stroke=\"currentColor\"/>\n",
              "    <text dy=\"1.25em\" style=\"font-size: 0.8em; letter-spacing: 1px\">\n",
              "        <textPath xlink:href=\"#arrow-0135b8c121c84d8aaf09772be736fb37-0-12\" class=\"displacy-label\" startOffset=\"50%\" side=\"left\" fill=\"currentColor\" text-anchor=\"middle\">nmod</textPath>\n",
              "    </text>\n",
              "    <path class=\"displacy-arrowhead\" d=\"M1215.0,184.0 L1223.0,172.0 1207.0,172.0\" fill=\"currentColor\"/>\n",
              "</g>\n",
              "</svg></span>"
            ],
            "text/plain": [
              "<IPython.core.display.HTML object>"
            ]
          },
          "metadata": {},
          "output_type": "display_data"
        }
      ],
      "source": [
        "#displacy.serve(documento, style='dep')\n",
        "displacy.render(documento, style='dep', jupyter=True, options={'distance': 90})"
      ]
    },
    {
      "cell_type": "code",
      "execution_count": 45,
      "metadata": {
        "colab": {
          "base_uri": "https://localhost:8080/",
          "height": 35
        },
        "id": "t51t20FIh_4o",
        "outputId": "e8e2a422-e9e7-4fc3-c5b6-82afacf54e79"
      },
      "outputs": [
        {
          "data": {
            "text/plain": [
              "[Reserva]"
            ]
          },
          "execution_count": 45,
          "metadata": {},
          "output_type": "execute_result"
        }
      ],
      "source": [
        "list(documento[3].ancestors)"
      ]
    },
    {
      "cell_type": "code",
      "execution_count": 46,
      "metadata": {
        "colab": {
          "base_uri": "https://localhost:8080/",
          "height": 35
        },
        "id": "Zinh6-Z0iW69",
        "outputId": "6d41ec46-0619-46c2-e75a-e9c8d32db8c4"
      },
      "outputs": [
        {
          "data": {
            "text/plain": [
              "[de, uma, restaurante]"
            ]
          },
          "execution_count": 46,
          "metadata": {},
          "output_type": "execute_result"
        }
      ],
      "source": [
        "list(documento[3].children)"
      ]
    },
    {
      "cell_type": "markdown",
      "metadata": {
        "id": "Yfwi5m-4qQt2"
      },
      "source": [
        "## Exemplo 4"
      ]
    },
    {
      "cell_type": "code",
      "execution_count": 47,
      "metadata": {
        "colab": {
          "base_uri": "https://localhost:8080/",
          "height": 35
        },
        "id": "APjnI_E6i2bv",
        "outputId": "fc45e031-8f82-497c-e3b5-4bb2ee62af95"
      },
      "outputs": [
        {
          "data": {
            "text/plain": [
              "((Curitiba, Guarulhos), (visitar, ficar))"
            ]
          },
          "execution_count": 47,
          "metadata": {},
          "output_type": "execute_result"
        }
      ],
      "source": [
        "documento = pln('Que locais podemos visitar em Curitiba e para ficar em Guarulhos?')\n",
        "lugares = documento[5], documento[10]\n",
        "acoes = documento[3], documento[8]\n",
        "lugares, acoes"
      ]
    },
    {
      "cell_type": "code",
      "execution_count": 48,
      "metadata": {
        "colab": {
          "base_uri": "https://localhost:8080/",
          "height": 52
        },
        "id": "RLNvvM4TjMMP",
        "outputId": "58861bed-76c3-4fa5-8b0e-e4d95d662aaf"
      },
      "outputs": [
        {
          "name": "stdout",
          "output_type": "stream",
          "text": [
            "Curitiba para visitar\n",
            "Guarulhos para ficar\n"
          ]
        }
      ],
      "source": [
        "for local in lugares:\n",
        "  for acao in local.ancestors:\n",
        "    if acao in acoes:\n",
        "      print(\"{} para {}\".format(local, acao))\n",
        "      break"
      ]
    },
    {
      "cell_type": "code",
      "execution_count": 49,
      "metadata": {
        "colab": {
          "base_uri": "https://localhost:8080/",
          "height": 294
        },
        "id": "ts_qM2UkjcAI",
        "outputId": "5f39950a-ed6b-4e7e-81ce-917a719ed08b"
      },
      "outputs": [
        {
          "data": {
            "text/html": [
              "<span class=\"tex2jax_ignore\"><svg xmlns=\"http://www.w3.org/2000/svg\" xmlns:xlink=\"http://www.w3.org/1999/xlink\" xml:lang=\"pt\" id=\"dbdeda9a34624297aaa188ef9c1b7b3c-0\" class=\"displacy\" width=\"1040\" height=\"272.0\" direction=\"ltr\" style=\"max-width: none; height: 272.0px; color: #000000; background: #ffffff; font-family: Arial; direction: ltr\">\n",
              "<text class=\"displacy-token\" fill=\"currentColor\" text-anchor=\"middle\" y=\"182.0\">\n",
              "    <tspan class=\"displacy-word\" fill=\"currentColor\" x=\"50\">Que</tspan>\n",
              "    <tspan class=\"displacy-tag\" dy=\"2em\" fill=\"currentColor\" x=\"50\">SCONJ</tspan>\n",
              "</text>\n",
              "\n",
              "<text class=\"displacy-token\" fill=\"currentColor\" text-anchor=\"middle\" y=\"182.0\">\n",
              "    <tspan class=\"displacy-word\" fill=\"currentColor\" x=\"140\">locais</tspan>\n",
              "    <tspan class=\"displacy-tag\" dy=\"2em\" fill=\"currentColor\" x=\"140\">NOUN</tspan>\n",
              "</text>\n",
              "\n",
              "<text class=\"displacy-token\" fill=\"currentColor\" text-anchor=\"middle\" y=\"182.0\">\n",
              "    <tspan class=\"displacy-word\" fill=\"currentColor\" x=\"230\">podemos</tspan>\n",
              "    <tspan class=\"displacy-tag\" dy=\"2em\" fill=\"currentColor\" x=\"230\">VERB</tspan>\n",
              "</text>\n",
              "\n",
              "<text class=\"displacy-token\" fill=\"currentColor\" text-anchor=\"middle\" y=\"182.0\">\n",
              "    <tspan class=\"displacy-word\" fill=\"currentColor\" x=\"320\">visitar</tspan>\n",
              "    <tspan class=\"displacy-tag\" dy=\"2em\" fill=\"currentColor\" x=\"320\">VERB</tspan>\n",
              "</text>\n",
              "\n",
              "<text class=\"displacy-token\" fill=\"currentColor\" text-anchor=\"middle\" y=\"182.0\">\n",
              "    <tspan class=\"displacy-word\" fill=\"currentColor\" x=\"410\">em</tspan>\n",
              "    <tspan class=\"displacy-tag\" dy=\"2em\" fill=\"currentColor\" x=\"410\">ADP</tspan>\n",
              "</text>\n",
              "\n",
              "<text class=\"displacy-token\" fill=\"currentColor\" text-anchor=\"middle\" y=\"182.0\">\n",
              "    <tspan class=\"displacy-word\" fill=\"currentColor\" x=\"500\">Curitiba</tspan>\n",
              "    <tspan class=\"displacy-tag\" dy=\"2em\" fill=\"currentColor\" x=\"500\">PROPN</tspan>\n",
              "</text>\n",
              "\n",
              "<text class=\"displacy-token\" fill=\"currentColor\" text-anchor=\"middle\" y=\"182.0\">\n",
              "    <tspan class=\"displacy-word\" fill=\"currentColor\" x=\"590\">e</tspan>\n",
              "    <tspan class=\"displacy-tag\" dy=\"2em\" fill=\"currentColor\" x=\"590\">CCONJ</tspan>\n",
              "</text>\n",
              "\n",
              "<text class=\"displacy-token\" fill=\"currentColor\" text-anchor=\"middle\" y=\"182.0\">\n",
              "    <tspan class=\"displacy-word\" fill=\"currentColor\" x=\"680\">para</tspan>\n",
              "    <tspan class=\"displacy-tag\" dy=\"2em\" fill=\"currentColor\" x=\"680\">SCONJ</tspan>\n",
              "</text>\n",
              "\n",
              "<text class=\"displacy-token\" fill=\"currentColor\" text-anchor=\"middle\" y=\"182.0\">\n",
              "    <tspan class=\"displacy-word\" fill=\"currentColor\" x=\"770\">ficar</tspan>\n",
              "    <tspan class=\"displacy-tag\" dy=\"2em\" fill=\"currentColor\" x=\"770\">VERB</tspan>\n",
              "</text>\n",
              "\n",
              "<text class=\"displacy-token\" fill=\"currentColor\" text-anchor=\"middle\" y=\"182.0\">\n",
              "    <tspan class=\"displacy-word\" fill=\"currentColor\" x=\"860\">em</tspan>\n",
              "    <tspan class=\"displacy-tag\" dy=\"2em\" fill=\"currentColor\" x=\"860\">ADP</tspan>\n",
              "</text>\n",
              "\n",
              "<text class=\"displacy-token\" fill=\"currentColor\" text-anchor=\"middle\" y=\"182.0\">\n",
              "    <tspan class=\"displacy-word\" fill=\"currentColor\" x=\"950\">Guarulhos?</tspan>\n",
              "    <tspan class=\"displacy-tag\" dy=\"2em\" fill=\"currentColor\" x=\"950\">PROPN</tspan>\n",
              "</text>\n",
              "\n",
              "<g class=\"displacy-arrow\">\n",
              "    <path class=\"displacy-arc\" id=\"arrow-dbdeda9a34624297aaa188ef9c1b7b3c-0-0\" stroke-width=\"2px\" d=\"M70,137.0 C70,47.0 315.0,47.0 315.0,137.0\" fill=\"none\" stroke=\"currentColor\"/>\n",
              "    <text dy=\"1.25em\" style=\"font-size: 0.8em; letter-spacing: 1px\">\n",
              "        <textPath xlink:href=\"#arrow-dbdeda9a34624297aaa188ef9c1b7b3c-0-0\" class=\"displacy-label\" startOffset=\"50%\" side=\"left\" fill=\"currentColor\" text-anchor=\"middle\">mark</textPath>\n",
              "    </text>\n",
              "    <path class=\"displacy-arrowhead\" d=\"M70,139.0 L62,127.0 78,127.0\" fill=\"currentColor\"/>\n",
              "</g>\n",
              "\n",
              "<g class=\"displacy-arrow\">\n",
              "    <path class=\"displacy-arc\" id=\"arrow-dbdeda9a34624297aaa188ef9c1b7b3c-0-1\" stroke-width=\"2px\" d=\"M160,137.0 C160,92.0 220.0,92.0 220.0,137.0\" fill=\"none\" stroke=\"currentColor\"/>\n",
              "    <text dy=\"1.25em\" style=\"font-size: 0.8em; letter-spacing: 1px\">\n",
              "        <textPath xlink:href=\"#arrow-dbdeda9a34624297aaa188ef9c1b7b3c-0-1\" class=\"displacy-label\" startOffset=\"50%\" side=\"left\" fill=\"currentColor\" text-anchor=\"middle\">nsubj</textPath>\n",
              "    </text>\n",
              "    <path class=\"displacy-arrowhead\" d=\"M160,139.0 L152,127.0 168,127.0\" fill=\"currentColor\"/>\n",
              "</g>\n",
              "\n",
              "<g class=\"displacy-arrow\">\n",
              "    <path class=\"displacy-arc\" id=\"arrow-dbdeda9a34624297aaa188ef9c1b7b3c-0-2\" stroke-width=\"2px\" d=\"M250,137.0 C250,92.0 310.0,92.0 310.0,137.0\" fill=\"none\" stroke=\"currentColor\"/>\n",
              "    <text dy=\"1.25em\" style=\"font-size: 0.8em; letter-spacing: 1px\">\n",
              "        <textPath xlink:href=\"#arrow-dbdeda9a34624297aaa188ef9c1b7b3c-0-2\" class=\"displacy-label\" startOffset=\"50%\" side=\"left\" fill=\"currentColor\" text-anchor=\"middle\">xcomp</textPath>\n",
              "    </text>\n",
              "    <path class=\"displacy-arrowhead\" d=\"M310.0,139.0 L318.0,127.0 302.0,127.0\" fill=\"currentColor\"/>\n",
              "</g>\n",
              "\n",
              "<g class=\"displacy-arrow\">\n",
              "    <path class=\"displacy-arc\" id=\"arrow-dbdeda9a34624297aaa188ef9c1b7b3c-0-3\" stroke-width=\"2px\" d=\"M430,137.0 C430,92.0 490.0,92.0 490.0,137.0\" fill=\"none\" stroke=\"currentColor\"/>\n",
              "    <text dy=\"1.25em\" style=\"font-size: 0.8em; letter-spacing: 1px\">\n",
              "        <textPath xlink:href=\"#arrow-dbdeda9a34624297aaa188ef9c1b7b3c-0-3\" class=\"displacy-label\" startOffset=\"50%\" side=\"left\" fill=\"currentColor\" text-anchor=\"middle\">case</textPath>\n",
              "    </text>\n",
              "    <path class=\"displacy-arrowhead\" d=\"M430,139.0 L422,127.0 438,127.0\" fill=\"currentColor\"/>\n",
              "</g>\n",
              "\n",
              "<g class=\"displacy-arrow\">\n",
              "    <path class=\"displacy-arc\" id=\"arrow-dbdeda9a34624297aaa188ef9c1b7b3c-0-4\" stroke-width=\"2px\" d=\"M340,137.0 C340,47.0 495.0,47.0 495.0,137.0\" fill=\"none\" stroke=\"currentColor\"/>\n",
              "    <text dy=\"1.25em\" style=\"font-size: 0.8em; letter-spacing: 1px\">\n",
              "        <textPath xlink:href=\"#arrow-dbdeda9a34624297aaa188ef9c1b7b3c-0-4\" class=\"displacy-label\" startOffset=\"50%\" side=\"left\" fill=\"currentColor\" text-anchor=\"middle\">obj</textPath>\n",
              "    </text>\n",
              "    <path class=\"displacy-arrowhead\" d=\"M495.0,139.0 L503.0,127.0 487.0,127.0\" fill=\"currentColor\"/>\n",
              "</g>\n",
              "\n",
              "<g class=\"displacy-arrow\">\n",
              "    <path class=\"displacy-arc\" id=\"arrow-dbdeda9a34624297aaa188ef9c1b7b3c-0-5\" stroke-width=\"2px\" d=\"M610,137.0 C610,47.0 765.0,47.0 765.0,137.0\" fill=\"none\" stroke=\"currentColor\"/>\n",
              "    <text dy=\"1.25em\" style=\"font-size: 0.8em; letter-spacing: 1px\">\n",
              "        <textPath xlink:href=\"#arrow-dbdeda9a34624297aaa188ef9c1b7b3c-0-5\" class=\"displacy-label\" startOffset=\"50%\" side=\"left\" fill=\"currentColor\" text-anchor=\"middle\">cc</textPath>\n",
              "    </text>\n",
              "    <path class=\"displacy-arrowhead\" d=\"M610,139.0 L602,127.0 618,127.0\" fill=\"currentColor\"/>\n",
              "</g>\n",
              "\n",
              "<g class=\"displacy-arrow\">\n",
              "    <path class=\"displacy-arc\" id=\"arrow-dbdeda9a34624297aaa188ef9c1b7b3c-0-6\" stroke-width=\"2px\" d=\"M700,137.0 C700,92.0 760.0,92.0 760.0,137.0\" fill=\"none\" stroke=\"currentColor\"/>\n",
              "    <text dy=\"1.25em\" style=\"font-size: 0.8em; letter-spacing: 1px\">\n",
              "        <textPath xlink:href=\"#arrow-dbdeda9a34624297aaa188ef9c1b7b3c-0-6\" class=\"displacy-label\" startOffset=\"50%\" side=\"left\" fill=\"currentColor\" text-anchor=\"middle\">mark</textPath>\n",
              "    </text>\n",
              "    <path class=\"displacy-arrowhead\" d=\"M700,139.0 L692,127.0 708,127.0\" fill=\"currentColor\"/>\n",
              "</g>\n",
              "\n",
              "<g class=\"displacy-arrow\">\n",
              "    <path class=\"displacy-arc\" id=\"arrow-dbdeda9a34624297aaa188ef9c1b7b3c-0-7\" stroke-width=\"2px\" d=\"M340,137.0 C340,2.0 770.0,2.0 770.0,137.0\" fill=\"none\" stroke=\"currentColor\"/>\n",
              "    <text dy=\"1.25em\" style=\"font-size: 0.8em; letter-spacing: 1px\">\n",
              "        <textPath xlink:href=\"#arrow-dbdeda9a34624297aaa188ef9c1b7b3c-0-7\" class=\"displacy-label\" startOffset=\"50%\" side=\"left\" fill=\"currentColor\" text-anchor=\"middle\">conj</textPath>\n",
              "    </text>\n",
              "    <path class=\"displacy-arrowhead\" d=\"M770.0,139.0 L778.0,127.0 762.0,127.0\" fill=\"currentColor\"/>\n",
              "</g>\n",
              "\n",
              "<g class=\"displacy-arrow\">\n",
              "    <path class=\"displacy-arc\" id=\"arrow-dbdeda9a34624297aaa188ef9c1b7b3c-0-8\" stroke-width=\"2px\" d=\"M880,137.0 C880,92.0 940.0,92.0 940.0,137.0\" fill=\"none\" stroke=\"currentColor\"/>\n",
              "    <text dy=\"1.25em\" style=\"font-size: 0.8em; letter-spacing: 1px\">\n",
              "        <textPath xlink:href=\"#arrow-dbdeda9a34624297aaa188ef9c1b7b3c-0-8\" class=\"displacy-label\" startOffset=\"50%\" side=\"left\" fill=\"currentColor\" text-anchor=\"middle\">case</textPath>\n",
              "    </text>\n",
              "    <path class=\"displacy-arrowhead\" d=\"M880,139.0 L872,127.0 888,127.0\" fill=\"currentColor\"/>\n",
              "</g>\n",
              "\n",
              "<g class=\"displacy-arrow\">\n",
              "    <path class=\"displacy-arc\" id=\"arrow-dbdeda9a34624297aaa188ef9c1b7b3c-0-9\" stroke-width=\"2px\" d=\"M790,137.0 C790,47.0 945.0,47.0 945.0,137.0\" fill=\"none\" stroke=\"currentColor\"/>\n",
              "    <text dy=\"1.25em\" style=\"font-size: 0.8em; letter-spacing: 1px\">\n",
              "        <textPath xlink:href=\"#arrow-dbdeda9a34624297aaa188ef9c1b7b3c-0-9\" class=\"displacy-label\" startOffset=\"50%\" side=\"left\" fill=\"currentColor\" text-anchor=\"middle\">obl</textPath>\n",
              "    </text>\n",
              "    <path class=\"displacy-arrowhead\" d=\"M945.0,139.0 L953.0,127.0 937.0,127.0\" fill=\"currentColor\"/>\n",
              "</g>\n",
              "</svg></span>"
            ],
            "text/plain": [
              "<IPython.core.display.HTML object>"
            ]
          },
          "metadata": {},
          "output_type": "display_data"
        }
      ],
      "source": [
        "displacy.render(documento, style='dep', jupyter=True, options={'distance': 90})"
      ]
    },
    {
      "cell_type": "markdown",
      "metadata": {
        "id": "cd8PYqtyxTt8"
      },
      "source": [
        "# Etapa 7: Semelhanças entre palavras e frases\n",
        "\n",
        "- Verificar se duas palavras são semelhantes ou logicamente relacionadas\n",
        "- Usa o algoritmo GloVe (Global Vectors for Word Representation)\n",
        "- Artigo original: https://nlp.stanford.edu/pubs/glove.pdf"
      ]
    },
    {
      "cell_type": "markdown",
      "metadata": {
        "id": "pLv1PTJz0sks"
      },
      "source": [
        "## Exemplo 1"
      ]
    },
    {
      "cell_type": "code",
      "execution_count": 50,
      "metadata": {
        "id": "mmYy8Yr7k7hv"
      },
      "outputs": [],
      "source": [
        "p1 = pln(\"olá\")\n",
        "p2 = pln(\"oi\")\n",
        "p3 = pln(\"ou\")"
      ]
    },
    {
      "cell_type": "code",
      "execution_count": 51,
      "metadata": {
        "colab": {
          "base_uri": "https://localhost:8080/",
          "height": 89
        },
        "id": "SCN4W5uxlFXq",
        "outputId": "98a61978-6526-4190-bbdd-31d0277267e9"
      },
      "outputs": [
        {
          "name": "stderr",
          "output_type": "stream",
          "text": [
            "C:\\Users\\mhpfe\\AppData\\Local\\Temp\\ipykernel_4316\\3378486376.py:1: UserWarning: [W007] The model you're using has no word vectors loaded, so the result of the Doc.similarity method will be based on the tagger, parser and NER, which may not give useful similarity judgements. This may happen if you're using one of the small models, e.g. `en_core_web_sm`, which don't ship with word vectors and only use context-sensitive tensors. You can always add your own word vectors, or use one of the larger models instead if available.\n",
            "  p1.similarity(p2)\n"
          ]
        },
        {
          "data": {
            "text/plain": [
              "0.014538315607009597"
            ]
          },
          "execution_count": 51,
          "metadata": {},
          "output_type": "execute_result"
        }
      ],
      "source": [
        "p1.similarity(p2)"
      ]
    },
    {
      "cell_type": "code",
      "execution_count": 52,
      "metadata": {
        "colab": {
          "base_uri": "https://localhost:8080/",
          "height": 89
        },
        "id": "ayx-A8bnlXwn",
        "outputId": "1f5ed242-acb3-4b66-d3c9-b84d68836d16"
      },
      "outputs": [
        {
          "name": "stderr",
          "output_type": "stream",
          "text": [
            "C:\\Users\\mhpfe\\AppData\\Local\\Temp\\ipykernel_4316\\3632986078.py:1: UserWarning: [W007] The model you're using has no word vectors loaded, so the result of the Doc.similarity method will be based on the tagger, parser and NER, which may not give useful similarity judgements. This may happen if you're using one of the small models, e.g. `en_core_web_sm`, which don't ship with word vectors and only use context-sensitive tensors. You can always add your own word vectors, or use one of the larger models instead if available.\n",
            "  p2.similarity(p1)\n"
          ]
        },
        {
          "data": {
            "text/plain": [
              "0.014538315607009597"
            ]
          },
          "execution_count": 52,
          "metadata": {},
          "output_type": "execute_result"
        }
      ],
      "source": [
        "p2.similarity(p1)"
      ]
    },
    {
      "cell_type": "code",
      "execution_count": 53,
      "metadata": {
        "colab": {
          "base_uri": "https://localhost:8080/",
          "height": 89
        },
        "id": "HWCoEOollco1",
        "outputId": "c9d9fd6c-c3b4-4c1f-e2a0-ec87aab39e90"
      },
      "outputs": [
        {
          "name": "stderr",
          "output_type": "stream",
          "text": [
            "C:\\Users\\mhpfe\\AppData\\Local\\Temp\\ipykernel_4316\\4197245329.py:1: UserWarning: [W007] The model you're using has no word vectors loaded, so the result of the Doc.similarity method will be based on the tagger, parser and NER, which may not give useful similarity judgements. This may happen if you're using one of the small models, e.g. `en_core_web_sm`, which don't ship with word vectors and only use context-sensitive tensors. You can always add your own word vectors, or use one of the larger models instead if available.\n",
            "  p1.similarity(p3)\n"
          ]
        },
        {
          "data": {
            "text/plain": [
              "0.25684406844871255"
            ]
          },
          "execution_count": 53,
          "metadata": {},
          "output_type": "execute_result"
        }
      ],
      "source": [
        "p1.similarity(p3)"
      ]
    },
    {
      "cell_type": "code",
      "execution_count": 54,
      "metadata": {
        "colab": {
          "base_uri": "https://localhost:8080/",
          "height": 89
        },
        "id": "qCwXOf2wlm3-",
        "outputId": "134e6224-d491-4888-ca4d-b67764d510f1"
      },
      "outputs": [
        {
          "name": "stderr",
          "output_type": "stream",
          "text": [
            "C:\\Users\\mhpfe\\AppData\\Local\\Temp\\ipykernel_4316\\3975678752.py:1: UserWarning: [W007] The model you're using has no word vectors loaded, so the result of the Doc.similarity method will be based on the tagger, parser and NER, which may not give useful similarity judgements. This may happen if you're using one of the small models, e.g. `en_core_web_sm`, which don't ship with word vectors and only use context-sensitive tensors. You can always add your own word vectors, or use one of the larger models instead if available.\n",
            "  p2.similarity(p3)\n"
          ]
        },
        {
          "data": {
            "text/plain": [
              "0.2508599879486254"
            ]
          },
          "execution_count": 54,
          "metadata": {},
          "output_type": "execute_result"
        }
      ],
      "source": [
        "p2.similarity(p3)"
      ]
    },
    {
      "cell_type": "code",
      "execution_count": 55,
      "metadata": {
        "id": "L-D7aABslwTa"
      },
      "outputs": [],
      "source": [
        "texto1 = pln('Quando será lançado o novo filme?')\n",
        "texto2 = pln('O novo filme será lançado mês que vem')\n",
        "texto3 = pln('Qual a cor do carro?')"
      ]
    },
    {
      "cell_type": "code",
      "execution_count": 56,
      "metadata": {
        "colab": {
          "base_uri": "https://localhost:8080/",
          "height": 89
        },
        "id": "tRPBcAail9-Q",
        "outputId": "ab2737d6-99a4-4a71-cad5-0acd075bf90a"
      },
      "outputs": [
        {
          "name": "stderr",
          "output_type": "stream",
          "text": [
            "C:\\Users\\mhpfe\\AppData\\Local\\Temp\\ipykernel_4316\\144810851.py:1: UserWarning: [W007] The model you're using has no word vectors loaded, so the result of the Doc.similarity method will be based on the tagger, parser and NER, which may not give useful similarity judgements. This may happen if you're using one of the small models, e.g. `en_core_web_sm`, which don't ship with word vectors and only use context-sensitive tensors. You can always add your own word vectors, or use one of the larger models instead if available.\n",
            "  texto1.similarity(texto2)\n"
          ]
        },
        {
          "data": {
            "text/plain": [
              "0.8188962087108537"
            ]
          },
          "execution_count": 56,
          "metadata": {},
          "output_type": "execute_result"
        }
      ],
      "source": [
        "texto1.similarity(texto2)"
      ]
    },
    {
      "cell_type": "code",
      "execution_count": 57,
      "metadata": {
        "colab": {
          "base_uri": "https://localhost:8080/",
          "height": 89
        },
        "id": "V1ggTh34mCjh",
        "outputId": "b4e7a767-a902-4677-c163-00cebcee5a56"
      },
      "outputs": [
        {
          "name": "stderr",
          "output_type": "stream",
          "text": [
            "C:\\Users\\mhpfe\\AppData\\Local\\Temp\\ipykernel_4316\\1685990419.py:1: UserWarning: [W007] The model you're using has no word vectors loaded, so the result of the Doc.similarity method will be based on the tagger, parser and NER, which may not give useful similarity judgements. This may happen if you're using one of the small models, e.g. `en_core_web_sm`, which don't ship with word vectors and only use context-sensitive tensors. You can always add your own word vectors, or use one of the larger models instead if available.\n",
            "  texto1.similarity(texto3)\n"
          ]
        },
        {
          "data": {
            "text/plain": [
              "0.4563167722610341"
            ]
          },
          "execution_count": 57,
          "metadata": {},
          "output_type": "execute_result"
        }
      ],
      "source": [
        "texto1.similarity(texto3)"
      ]
    },
    {
      "cell_type": "markdown",
      "metadata": {
        "id": "c0CVDr5W0wkK"
      },
      "source": [
        "## Exemplo 2"
      ]
    },
    {
      "cell_type": "code",
      "execution_count": 58,
      "metadata": {
        "id": "OWCYOxSkmp_i"
      },
      "outputs": [],
      "source": [
        "texto = pln('gato cachorro cavalo pessoa')"
      ]
    },
    {
      "cell_type": "code",
      "execution_count": 59,
      "metadata": {
        "colab": {
          "base_uri": "https://localhost:8080/",
          "height": 728
        },
        "id": "Pbk3ZPIOmypr",
        "outputId": "3efdc77f-fc9e-473f-899e-746f9e10946b"
      },
      "outputs": [
        {
          "name": "stdout",
          "output_type": "stream",
          "text": [
            "gato é 100 similar a gato\n",
            "gato é 56 similar a cachorro\n",
            "gato é 36 similar a cavalo\n",
            "gato é 16 similar a pessoa\n",
            "cachorro é 56 similar a gato\n",
            "cachorro é 100 similar a cachorro\n",
            "cachorro é 57 similar a cavalo\n",
            "cachorro é 16 similar a pessoa\n",
            "cavalo é 36 similar a gato\n",
            "cavalo é 57 similar a cachorro\n",
            "cavalo é 100 similar a cavalo\n",
            "cavalo é 33 similar a pessoa\n",
            "pessoa é 16 similar a gato\n",
            "pessoa é 16 similar a cachorro\n",
            "pessoa é 33 similar a cavalo\n",
            "pessoa é 100 similar a pessoa\n"
          ]
        },
        {
          "name": "stderr",
          "output_type": "stream",
          "text": [
            "C:\\Users\\mhpfe\\AppData\\Local\\Temp\\ipykernel_4316\\3309534751.py:5: UserWarning: [W007] The model you're using has no word vectors loaded, so the result of the Token.similarity method will be based on the tagger, parser and NER, which may not give useful similarity judgements. This may happen if you're using one of the small models, e.g. `en_core_web_sm`, which don't ship with word vectors and only use context-sensitive tensors. You can always add your own word vectors, or use one of the larger models instead if available.\n",
            "  similaridade = int(texto1.similarity(texto2) * 100)\n"
          ]
        }
      ],
      "source": [
        "for texto1 in texto:\n",
        "  #print('----', texto1)\n",
        "  for texto2 in texto:\n",
        "    #print(texto2)\n",
        "    similaridade = int(texto1.similarity(texto2) * 100)\n",
        "    print(\"{} é {} similar a {}\".format(texto1, similaridade, texto2))"
      ]
    },
    {
      "cell_type": "markdown",
      "metadata": {
        "id": "zcgAkuB346vV"
      },
      "source": [
        "# Etapa 8: Tokenização"
      ]
    },
    {
      "cell_type": "code",
      "execution_count": 60,
      "metadata": {
        "id": "mZuGK8j_n8WB"
      },
      "outputs": [],
      "source": [
        "documento = pln('Estou aprendendo processamento de linguagem natural, curso em Curitiba')"
      ]
    },
    {
      "cell_type": "code",
      "execution_count": 61,
      "metadata": {
        "colab": {
          "base_uri": "https://localhost:8080/",
          "height": 190
        },
        "id": "dtr3c4WEoA0c",
        "outputId": "334966fc-abac-4b83-b4de-3af333c97754"
      },
      "outputs": [
        {
          "name": "stdout",
          "output_type": "stream",
          "text": [
            "Estou\n",
            "aprendendo\n",
            "processamento\n",
            "de\n",
            "linguagem\n",
            "natural\n",
            ",\n",
            "curso\n",
            "em\n",
            "Curitiba\n"
          ]
        }
      ],
      "source": [
        "for token in documento:\n",
        "  print(token)"
      ]
    },
    {
      "cell_type": "code",
      "execution_count": 62,
      "metadata": {
        "colab": {
          "base_uri": "https://localhost:8080/",
          "height": 173
        },
        "id": "F0D5zthsoJi3",
        "outputId": "0f0dfc46-cc8b-4bfb-fde3-5a4920c3fd64"
      },
      "outputs": [
        {
          "data": {
            "text/plain": [
              "['Estou',\n",
              " 'aprendendo',\n",
              " 'processamento',\n",
              " 'de',\n",
              " 'linguagem',\n",
              " 'natural,',\n",
              " 'curso',\n",
              " 'em',\n",
              " 'Curitiba']"
            ]
          },
          "execution_count": 62,
          "metadata": {},
          "output_type": "execute_result"
        }
      ],
      "source": [
        "documento1 = 'Estou aprendendo processamento de linguagem natural, curso em Curitiba'\n",
        "documento1.split(' ')"
      ]
    }
  ],
  "metadata": {
    "colab": {
      "provenance": []
    },
    "kernelspec": {
      "display_name": "Python 3",
      "name": "python3"
    },
    "language_info": {
      "codemirror_mode": {
        "name": "ipython",
        "version": 3
      },
      "file_extension": ".py",
      "mimetype": "text/x-python",
      "name": "python",
      "nbconvert_exporter": "python",
      "pygments_lexer": "ipython3",
      "version": "3.12.1"
    }
  },
  "nbformat": 4,
  "nbformat_minor": 0
}
